{
 "cells": [
  {
   "cell_type": "code",
   "execution_count": 69,
   "id": "0ea3c7a4-3ad7-4c39-b14c-5ea3527719b6",
   "metadata": {},
   "outputs": [],
   "source": [
    "from langchain_ollama import ChatOllama\n",
    "from custom_retriever import CustomRetriever\n",
    "from local_embeddings import LocalEmbeddings\n",
    "from langgraph.graph import MessagesState, StateGraph, END\n",
    "from langchain.schema import Document\n",
    "from langchain_core.tools import tool\n",
    "from vectorstore import vectorstore_pipeline, load_existing_vectorstore\n",
    "from langchain_core.messages import HumanMessage, SystemMessage\n",
    "from langgraph.prebuilt import ToolNode, tools_condition\n",
    "import json\n",
    "import operator\n",
    "from typing_extensions import TypedDict\n",
    "from typing import List, Annotated"
   ]
  },
  {
   "cell_type": "code",
   "execution_count": 26,
   "id": "9989e7ea-39e7-4f4d-9fe3-adfd5ccf8816",
   "metadata": {},
   "outputs": [],
   "source": [
    "# Initialize components as before\n",
    "llm_model_name = \"llama3.2\"\n",
    "\n",
    "llm = ChatOllama(\n",
    "    model=llm_model_name,\n",
    "    temperature=0.1,\n",
    "    max_tokens=1000,\n",
    "    num_gpu=1,\n",
    ")\n",
    "\n",
    "llm_json = ChatOllama(\n",
    "    model=llm_model_name,\n",
    "    temperature=0.1,\n",
    "    max_tokens=1000,\n",
    "    num_gpu=1,\n",
    "    format=\"json\",\n",
    ")\n",
    "\n",
    "embeddings_model_name = \"all-MiniLM-L6-v2\"\n",
    "embeddings_model = LocalEmbeddings(embeddings_model_name)"
   ]
  },
  {
   "cell_type": "code",
   "execution_count": null,
   "id": "2eb10006-800e-4d4e-9084-e0da16a351dc",
   "metadata": {},
   "outputs": [],
   "source": [
    "# Create a new vectorstore instance\n",
    "vectorstore = vectorstore_pipeline(embeddings_model_name=embeddings_model_name,\n",
    "                                  llm_model=\"meta-llama/Llama-3.2-3B\",\n",
    "                                  file_paths=[\"DL_Assignment_4.pdf\"],\n",
    "                                  store_path=\"faiss_index\",\n",
    "                                  enrich_method=\"keywords\")"
   ]
  },
  {
   "cell_type": "code",
   "execution_count": 3,
   "id": "7395a50c-1f64-4ea0-9b71-0aeadd066efd",
   "metadata": {},
   "outputs": [],
   "source": [
    "# Load existing vectorstore\n",
    "vectorstore = load_existing_vectorstore(embeddings_model_name, \"faiss_index\", use_gpu=False)\n",
    "\n",
    "metadata_info = {\n",
    "    \"page_id\": \"The page id of the document or chunk.\",\n",
    "    \"source\": \"The source file (i.e., path) of the document.\",\n",
    "    \"keywords\": \"Topics extracted from the query, listed as a list of words.\"\n",
    "}"
   ]
  },
  {
   "cell_type": "code",
   "execution_count": 27,
   "id": "0f140a93-b876-4551-902b-4998f8baa012",
   "metadata": {},
   "outputs": [],
   "source": [
    "# Retriever\n",
    "retriever = CustomRetriever(\n",
    "    docs=[],\n",
    "    vectorstore=vectorstore,\n",
    "    llm_model=llm,\n",
    "    metadata_info=metadata_info,\n",
    "    k=5,\n",
    "    verbose=True,\n",
    ")"
   ]
  },
  {
   "cell_type": "markdown",
   "id": "e3e80158-0360-4570-abfd-20f49b3934d5",
   "metadata": {},
   "source": [
    "## Router"
   ]
  },
  {
   "cell_type": "code",
   "execution_count": 28,
   "id": "da349fa2-557b-45a3-9b4f-ee55b127beac",
   "metadata": {},
   "outputs": [],
   "source": [
    "# Prompt\n",
    "router_instructions = \"\"\" \n",
    "You are an expert in determining whether a user query requires retrieval from a vectorstore or a direct response. \n",
    "\n",
    "The vectorstore contains user-uploaded documents, which may cover any topic. If the user's query requires information that could be found in these documents, route it to the vectorstore.\n",
    "\n",
    "For queries that are purely conversational, such as greetings (\"Hi\", \"Hello\") or casual questions (\"How are you?\"), and do not require knowledge from the documents, use direct-response.\n",
    "\n",
    "Return a JSON object with a single key, `datasource`, set to either \"direct_response\" or \"vectorstore\" based on the user's query. \n",
    "\"\"\""
   ]
  },
  {
   "cell_type": "code",
   "execution_count": 30,
   "id": "3102fd39-e33e-4d51-a4a0-6bdf2136e415",
   "metadata": {},
   "outputs": [
    {
     "data": {
      "text/plain": [
       "{'datasource': 'vectorstore'}"
      ]
     },
     "execution_count": 30,
     "metadata": {},
     "output_type": "execute_result"
    }
   ],
   "source": [
    "question = [HumanMessage(content=\"What are the tasks related to ODE's on page 1?\")]\n",
    "test_vec_store = llm_json.invoke([SystemMessage(content=router_instructions)] + question)\n",
    "json.loads(test_vec_store.content)"
   ]
  },
  {
   "cell_type": "markdown",
   "id": "87dc2485-a9a5-4fcf-ba42-de76b6d83a77",
   "metadata": {},
   "source": [
    "## Retrieval Grader"
   ]
  },
  {
   "cell_type": "code",
   "execution_count": 31,
   "id": "9a57467c-989c-44a6-b3a6-d6d3dfbb1227",
   "metadata": {},
   "outputs": [],
   "source": [
    "# Instructions\n",
    "doc_grader_instructions = \"\"\" You are a grader assessing the relevance of a retrieved document to a user question.\n",
    "\n",
    "If the document contains keyword(s) or semantic meaning related to the question, grade it as relevant.\n",
    "\"\"\"\n",
    "\n",
    "# Grader Prompt\n",
    "doc_grader_prompt = \"\"\"\n",
    "Here is the retrieved document: \\n\\n {document} \\n\\n Here is the user question: \\n\\n {question}.\n",
    "\n",
    "Carefully and objectively assess whether the document contains at least some information that is relevant to the question. \n",
    "\n",
    "Return JSON with single key, `binary_score`, that is \"yes\" or \"no\" score to indicate whether the document contains at least some information relevant to the question.\n",
    "\"\"\""
   ]
  },
  {
   "cell_type": "code",
   "execution_count": 32,
   "id": "e1b49ac7-de1a-47d3-9109-9db28dc77107",
   "metadata": {},
   "outputs": [
    {
     "data": {
      "text/plain": [
       "{'binary_score': 'yes'}"
      ]
     },
     "execution_count": 32,
     "metadata": {},
     "output_type": "execute_result"
    }
   ],
   "source": [
    "# Test \n",
    "question = \"What are the tasks related to ODE's on page 1?\"\n",
    "docs = retriever.invoke(question)\n",
    "doc_txt = docs[0].page_content if len(docs)>0 else \"Hello, I am a student at Copenhagen University\"\n",
    "doc_grader_prompt_formatted = doc_grader_prompt.format(document=doc_txt, question=question)\n",
    "result = llm_json.invoke([SystemMessage(content=doc_grader_instructions)] + [HumanMessage(content=doc_grader_prompt_formatted)])\n",
    "json.loads(result.content)"
   ]
  },
  {
   "cell_type": "markdown",
   "id": "d1ea9020-82a5-4dd6-8ba0-870434e9366f",
   "metadata": {},
   "source": [
    "## RAG : Prototype"
   ]
  },
  {
   "cell_type": "code",
   "execution_count": 60,
   "id": "6cfd84a0-8581-48bd-8535-58429ec3cf9a",
   "metadata": {},
   "outputs": [],
   "source": [
    "# Prompt\n",
    "rag_prompt = \"\"\"\n",
    "You are an assistant for question-answering tasks. You are built to have conversations with users regarding their uploaded documents. \n",
    "\n",
    "Here is the context to use to answer the question:\n",
    "\n",
    "{context}\n",
    "\n",
    "Think carefully about the above context.\n",
    "\n",
    "Now, review the user question: \n",
    "\n",
    "{question}\n",
    "\n",
    "Provide an answer to this question using only the context above. \n",
    "\n",
    "Keep the answer brief and concise. Don't repeat yourself.\n",
    "\n",
    "Answer:\"\"\" \n",
    "\n",
    "def format_docs(docs):\n",
    "    return \"\\n\\n\".join(doc.page_content for doc in docs)"
   ]
  },
  {
   "cell_type": "code",
   "execution_count": 34,
   "id": "3c30f5c8-24d9-4da7-ac3f-73dd8a66b848",
   "metadata": {},
   "outputs": [
    {
     "name": "stdout",
     "output_type": "stream",
     "text": [
      "The tasks related to ODEs on page 1 are:\n",
      "\n",
      "1. Analyze the program: List the different parts of the notebook with brief descriptions of the function of each part (1-2 sentences) and its relation to the methodology.\n",
      "2. Run training with Gaussian training data: Run the program without changing anything, including and describing the plot obtained, and comparing the expected log likelihood that the dataset generator returns and the final log likelihood achieved by running the program.\n",
      "3. Run training with mixture of Laplace training data: Change the program to run with mixture of Laplacians data instead, doing the same as above for this new dataset.\n",
      "4. Try different integration methods: Implement two Runge-Kutta methods (rk2 and rk4) and try changing the integration method, noting if it changes anything.\n",
      "\n",
      "These tasks are part of exercise 1 in the Deep Learning 2024 Assignment 4.\n"
     ]
    }
   ],
   "source": [
    "# Test\n",
    "question = \"What are the tasks related to ODE's on page 1, list them?\"\n",
    "docs = retriever.invoke(question)\n",
    "docs_txt = format_docs(docs)\n",
    "rag_prompt_formatted = rag_prompt.format(context=docs_txt, question=question)\n",
    "generation = llm.invoke([HumanMessage(content=rag_prompt_formatted)])\n",
    "# # Stream the response\n",
    "# for chunk in llm.stream([HumanMessage(content=rag_prompt_formatted)]):\n",
    "#     print(chunk.content, end=\"\", flush=True)  # Streaming output smoothly\n",
    "print(generation.content)"
   ]
  },
  {
   "cell_type": "markdown",
   "id": "b053bc76-180c-4cb5-a3cf-579186dde135",
   "metadata": {},
   "source": [
    "## Answer Grader"
   ]
  },
  {
   "cell_type": "code",
   "execution_count": 53,
   "id": "567c7fd1-fcf6-4ffe-bdd5-885a6345ca8f",
   "metadata": {},
   "outputs": [],
   "source": [
    "# Answer grader instructions\n",
    "answer_grader_instructions = \"\"\"\n",
    "\n",
    "You are a teacher grading a quiz. \n",
    "\n",
    "You will be given a QUESTION, FACTS and a STUDENT ANSWER.\n",
    "\n",
    "Here is the grade criteria to follow: \n",
    "\n",
    "(1) Ensure the STUDENT ANSWER helps to answer the QUESTION. \n",
    "\n",
    "(2) Ensure the STUDENT ANSWER is grounded in the FACTS. \n",
    "\n",
    "Score: \n",
    "\n",
    "A score of yes means that the student's answer meets all of the criteria. This is the highest (best) score. \n",
    "\n",
    "A score of no means that the student's answer does not meet all of the criteria. This is the lowest possible score you can give. \n",
    "\n",
    "Explain your reasoning in a step-by-step manner to ensure your reasoning and conclusion is correct. \n",
    "\n",
    "Avoid simply stating the correct answer at the outset. \n",
    "\"\"\"\n",
    "\n",
    "# Grader Prompt\n",
    "answer_grader_prompt = \"\"\"QUESTION: {question} \\n\\n FACTS: \\n\\n {documents} \\n\\n STUDENT ANSWER: {generation}\n",
    "\n",
    "Return JSON with two keys, 'binary_score' is 'yes' or 'no' to indicate whether the STUDENT ANSWER is grounded in the FACTS and helps answer the QUESTION. And a key, explanation, that contains an explanation of the score.. \n",
    "\"\"\""
   ]
  },
  {
   "cell_type": "code",
   "execution_count": 54,
   "id": "0fdf3206-2f57-40a7-b7a8-053060ca34a7",
   "metadata": {},
   "outputs": [
    {
     "data": {
      "text/plain": [
       "{'binary_score': 'yes',\n",
       " 'explanation': 'The STUDENT ANSWER meets all the criteria because it lists the tasks related to ODEs as specified in the FACTS. The tasks are: 1) Analyze the program, 2) Run training with Gaussian training data, 3) Run training with mixture of Laplace training data, and 4) Try different integration methods. These tasks are indeed part of exercise 1 in the Deep Learning 2024 Assignment 4 as stated in the FACTS. Additionally, the STUDENT ANSWER is grounded in the FACTS because it references specific parts of the notebook (e.g., ODE.ipynb and SDE.ipynb) and methodology (e.g., generative model equations and log likelihood objective equations). The answer also includes descriptions of plots obtained and expected log likelihood values, which are relevant to the tasks. Overall, the STUDENT ANSWER demonstrates a clear understanding of the tasks related to ODEs as specified in the FACTS.'}"
      ]
     },
     "execution_count": 54,
     "metadata": {},
     "output_type": "execute_result"
    }
   ],
   "source": [
    "# Formatting\n",
    "answer_grader_prompt_formatted = answer_grader_prompt.format(question=question, documents=docs_txt, generation=generation.content)\n",
    "result = llm_json.invoke([SystemMessage(content=answer_grader_instructions)] + [HumanMessage(content=answer_grader_prompt_formatted)])\n",
    "json.loads(result.content)"
   ]
  },
  {
   "cell_type": "markdown",
   "id": "782c69a5-a22f-45ec-a7fa-54bdc2c022c7",
   "metadata": {},
   "source": [
    "## Agent Graph"
   ]
  },
  {
   "cell_type": "code",
   "execution_count": 59,
   "id": "a4f28aef-a89f-44a8-b80e-ee8548dc09a8",
   "metadata": {},
   "outputs": [],
   "source": [
    "class GraphState(TypedDict):\n",
    "    \"\"\"\n",
    "    Graph state is a dictionary that contains information we want to propogate to, and modify in, each graph node. \n",
    "    \"\"\"\n",
    "\n",
    "    question: str # User question\n",
    "    generation: str # LLM Generation\n",
    "    direct_response : str # Binary decision whether to retrieve documents or answer using already given context. \n",
    "    no_relevant_docs: int # Binary state if we no relevant documents for the questions were found. \n",
    "    max_retries : int # Max number of retries for generating an answer\n",
    "    answers : int # Number of answers generated\n",
    "    loop_step : Annotated[int, operator.add]\n",
    "    documents : List[str] # List of retrieved documents "
   ]
  },
  {
   "cell_type": "code",
   "execution_count": 91,
   "id": "da4231e7-5c65-4900-9625-893121806f9e",
   "metadata": {},
   "outputs": [],
   "source": [
    "### Nodes\n",
    "def retrieve(state):\n",
    "    \"\"\"\n",
    "    Retrieve documents from vectorstore.\n",
    "\n",
    "    Args: \n",
    "        state (dict) : The current graph state.\n",
    "\n",
    "    Returns: \n",
    "        state (dict) : New key added to state, documents, that contains retrieved documents. \n",
    "    \"\"\"\n",
    "\n",
    "    print(\"---RETRIEVAL----\")\n",
    "    question = state[\"question\"]\n",
    "\n",
    "    docs = retriever.invoke(question)\n",
    "    return {\"documents\" : docs}\n",
    "\n",
    "def generate(state):\n",
    "    \"\"\"\n",
    "    Generates answer using RAG on retrieved documents. \n",
    "    \n",
    "    Args: \n",
    "        state (dict) : The current graph state.\n",
    "\n",
    "    Returns: \n",
    "        state (dict) : New key added to state, answer, that contains LLM generated answer.\n",
    "    \"\"\"\n",
    "\n",
    "    print(\"----GENERATE----\")\n",
    "    question = state[\"question\"]\n",
    "    documents = state[\"documents\"]\n",
    "    loop_step = state.get(\"loop_step\", 0)\n",
    "\n",
    "    # RAG Generation\n",
    "    docs_txt = format_docs(documents)\n",
    "    rag_prompt_formatted = rag_prompt.format(context=docs_txt, question=question)\n",
    "    generation = llm.invoke([HumanMessage(content=rag_prompt_formatted)])\n",
    "    return {\"generation\" : generation, \"loop_step\" : loop_step+1}\n",
    "\n",
    "def grade_documents(state):\n",
    "    \"\"\"\n",
    "    Determines whether the retrieved documents are relevant to the question. \n",
    "    If no document is relevant we inform the user that we couldn't find any relevant documents for the question. \n",
    "\n",
    "    Args: \n",
    "        state (dict) : The current graph state\n",
    "\n",
    "    Returns: \n",
    "        state (dict) : Filtered out irrelevant documents and updated no_relevant_docs state. \n",
    "    \"\"\"\n",
    "\n",
    "    print(\"----CHECK DOCUMENT RELEVANCE TO THE QUESTION----\")\n",
    "    question = state[\"question\"]\n",
    "    documents = state[\"documents\"]\n",
    "\n",
    "    # Check each doc\n",
    "    filtered_docs = []\n",
    "    no_relevant_docs = 0\n",
    "    for doc in documents: \n",
    "        doc_grader_prompt_formatted = doc_grader_prompt.format(document=doc.page_content, question=question)\n",
    "        result = llm_json.invoke([SystemMessage(content=doc_grader_instructions)] + [HumanMessage(content=doc_grader_prompt_formatted)])\n",
    "        grade = json.loads(result.content)[\"binary_score\"]\n",
    "        # Document relevant\n",
    "        if grade.lower() == \"yes\":\n",
    "            print(\"----GRADE: DOCUMENT RELEVANT----\")\n",
    "            filtered_docs.append(doc)\n",
    "        # Document not relevant\n",
    "        else:\n",
    "            continue\n",
    "\n",
    "    # Check if no relevant documents were found\n",
    "    if len(filtered_docs) == 0: \n",
    "        no_relevant_docs = 1\n",
    "\n",
    "    return {\"documents\" : filtered_docs, \"no_relevant_docs\" : no_relevant_docs}\n",
    "\n",
    "def no_relevant_documents(state):\n",
    "    \"\"\"\n",
    "    Informs the user that no relevant documents were found in the vectorstore. \n",
    "\n",
    "    Args:\n",
    "        state (dict) : The current graph state\n",
    "\n",
    "    Returns:\n",
    "        state (dict) : New graph state, generation, telling the user that no documents we're relevant to the query in the vectorstore. \n",
    "    \"\"\"\n",
    "\n",
    "    print(\"----DECISION : NO RELEVANT DOCUMENTS WERE FOUND----\")\n",
    "    return {generation : \"Sorry, could not find any information regarding your question in the provided document(s)\"}\n",
    "\n",
    "def direct_response(state):\n",
    "    \"\"\"\n",
    "    Generates a LLM answer for the qiven question using the knowledge from the current conversation. \n",
    "\n",
    "    Args: \n",
    "        state (dict) : The current graph state\n",
    "\n",
    "    Returns: \n",
    "        state (dict) : New graph state, answer, giving the LLM generated response to the question as well as resetting direct_response.\n",
    "    \"\"\"\n",
    "\n",
    "    # Add memory later -> So we can either use the previous conversation knowledge to respond or respond directly to a purely conversational question such as \"Hi\", \"How are you?\" etc. \n",
    "    print(\"----DIRECT RESPONSE----\")\n",
    "    question = state[\"question\"]\n",
    "    direct_response = state[\"direct_response\"]\n",
    "    rag_prompt_formatted = rag_prompt.format(context= \"No Context : Respond to the user approriate to the question\", question=question)\n",
    "    generation = llm.invoke([HumanMessage(content=rag_prompt_formatted)])\n",
    "    result = generation.content if generation.content != \"\" else \"No response could be generated\"\n",
    "    return {\"generation\" : generation.content}\n",
    "    \n",
    "    \n",
    "### Edges\n",
    "\n",
    "def route_question(state):\n",
    "    \"\"\"\n",
    "    Route question to direct response or RAG\n",
    "\n",
    "    Args: \n",
    "        state (dict) : The current graph state\n",
    "        \n",
    "    Returns:\n",
    "        str : Next node to call, either direct_response or retrieve\n",
    "    \"\"\"\n",
    "\n",
    "    print(\"----ROUTE QUESTION----\")\n",
    "    route_question = llm_json.invoke([SystemMessage(content=router_instructions)] + [HumanMessage(content=state[\"question\"])])\n",
    "    source = json.loads(route_question.content)['datasource']\n",
    "    if source == \"direct_response\":\n",
    "        print(\"----ROUTING TO DIRECT_RESPONSE----\")\n",
    "        return \"direct_response\"\n",
    "    elif source == \"vectorstore\":\n",
    "        print(\"----ROUTING TO VECTORSTORE----\")\n",
    "        return \"vectorstore\"\n",
    "\n",
    "def decide_to_generate(state):\n",
    "    \"\"\"\n",
    "    Decides whether to generate an answer or respond no relevant documents found\n",
    "\n",
    "    Args:\n",
    "        state (dict) : The current graph state\n",
    "\n",
    "    Returns:\n",
    "        str : Binary decision for next node to call, either 'no_relevant_documents' or 'generate'\n",
    "    \"\"\"\n",
    "\n",
    "    print(\"----ASSESS GRADED DOCUMENTS----\")\n",
    "    question = state[\"question\"]\n",
    "    no_relevant_docs = state[\"no_relevant_docs\"]\n",
    "    if no_relevant_docs:\n",
    "        print(\"----NO RELEVANT DOCS WERE FOUND : INFORMING USER----\")\n",
    "        return \"no_relevant_documents\"\n",
    "    else:\n",
    "        print(\"----DECISION : GENERATE----\")\n",
    "        return \"generate\"\n",
    "\n",
    "def grade_generation_v_documents_and_question(state):\n",
    "    \"\"\"\n",
    "    Determines whether the generated answer is grounded in the documents and answers the question.\n",
    "\n",
    "    Args: \n",
    "        state (dict) : The current state graph\n",
    "\n",
    "    Returns: \n",
    "        str : Decision for next node to call\n",
    "    \"\"\"\n",
    "\n",
    "    print(\"---CHECK ANSWER----\")\n",
    "    question = state[\"question\"]\n",
    "    documents = state[\"documents\"]\n",
    "    generation = state[\"generation\"]\n",
    "    max_retries = state.get(\"max_retries\", 3) # Defaults to 3 if not provided\n",
    "\n",
    "    # Formatting\n",
    "    answer_grader_prompt_formatted = answer_grader_prompt.format(question=question, documents=format_docs(documents), generation=generation.content)\n",
    "    result = llm_json.invoke([SystemMessage(content=answer_grader_instructions)] + [HumanMessage(content=answer_grader_prompt_formatted)])\n",
    "    grade = json.loads(result.content)[\"binary_score\"]\n",
    "\n",
    "    # Check answer\n",
    "    if grade == \"yes\":\n",
    "        # Meaning good answer\n",
    "        print(\"----GENERATED ANSWER IS GROUNDED IN DOCUMENTS AND ANSWERS THE QUESTION----\")\n",
    "        return \"useful\"\n",
    "    elif state[\"loop_step\"] <= max_retries: \n",
    "        print(\"----GENERATED ANSWER IS NOT GROUNDED IN DOCUMENTS OR DOES NOT ANSWER THE QUESTION----\")\n",
    "        return \"not useful\"\n",
    "    else:\n",
    "        print(\"----MAX RETRIES REACHED : STOPPING RAG----\")\n",
    "        return \"max retries\""
   ]
  },
  {
   "cell_type": "code",
   "execution_count": 98,
   "id": "13b4c282-20a7-4c0c-ad4a-2ec777da2cfd",
   "metadata": {},
   "outputs": [],
   "source": [
    "# Building Graph\n",
    "workflow = StateGraph(GraphState)\n",
    "\n",
    "# Define nodes\n",
    "workflow.add_node(\"respond_directly\", direct_response)\n",
    "workflow.add_node(\"retrieve\", retrieve)\n",
    "workflow.add_node(\"grade_documents\", grade_documents)\n",
    "workflow.add_node(\"no_relevant_documents\", no_relevant_documents)\n",
    "workflow.add_node(\"generate\", generate)\n",
    "workflow.add_edge(\"respond_directly\", END)\n",
    "workflow.add_edge(\"no_relevant_documents\", END)\n",
    "\n",
    "# Build graph\n",
    "workflow.set_conditional_entry_point(\n",
    "    route_question,\n",
    "    {\n",
    "        \"direct_response\" : \"respond_directly\",\n",
    "        \"vectorstore\" : \"retrieve\",\n",
    "    },\n",
    ")\n",
    "\n",
    "workflow.add_edge(\"retrieve\", \"grade_documents\")\n",
    "workflow.add_conditional_edges(\n",
    "    \"grade_documents\",\n",
    "    decide_to_generate,\n",
    "    {\n",
    "        \"no_relevant_documents\" : \"no_relevant_documents\",\n",
    "        \"generate\" : \"generate\",\n",
    "    },\n",
    ")\n",
    "\n",
    "workflow.add_conditional_edges(\n",
    "    \"generate\",\n",
    "    grade_generation_v_documents_and_question,\n",
    "    {\n",
    "        \"not useful\" : \"generate\",\n",
    "        \"useful\" : END,\n",
    "        \"max retries\" : END,\n",
    "    },\n",
    ")\n",
    "# Compile \n",
    "graph = workflow.compile()"
   ]
  },
  {
   "cell_type": "code",
   "execution_count": 99,
   "id": "3bcfd1ba-c568-462c-9e57-bafeb51e6e5d",
   "metadata": {},
   "outputs": [
    {
     "data": {
      "image/png": "[encoded data removed]",
      "text/plain": [
       "<IPython.core.display.Image object>"
      ]
     },
     "metadata": {},
     "output_type": "display_data"
    }
   ],
   "source": [
    "# Display Image\n",
    "from IPython.display import Image, display\n",
    "display(Image(graph.get_graph().draw_mermaid_png()))"
   ]
  },
  {
   "cell_type": "markdown",
   "id": "b2353d2f-020c-4442-b7b7-45af1fba049c",
   "metadata": {},
   "source": [
    "## Testing Agent"
   ]
  },
  {
   "cell_type": "code",
   "execution_count": 100,
   "id": "49b289a1-920a-42d5-8d66-de3bcae7aed9",
   "metadata": {},
   "outputs": [
    {
     "name": "stdout",
     "output_type": "stream",
     "text": [
      "----ROUTE QUESTION----\n",
      "----ROUTING TO VECTORSTORE----\n",
      "---RETRIEVAL----\n",
      "----CHECK DOCUMENT RELEVANCE TO THE QUESTION----\n",
      "----GRADE: DOCUMENT RELEVANT----\n",
      "----ASSESS GRADED DOCUMENTS----\n",
      "----DECISION : GENERATE----\n",
      "----GENERATE----\n",
      "---CHECK ANSWER----\n",
      "----GENERATED ANSWER IS GROUNDED IN DOCUMENTS AND ANSWERS THE QUESTION----\n"
     ]
    }
   ],
   "source": [
    "inputs = {\"question\" : \"What are the tasks related to ODE's on page 1?\", \"max_retries\" : 3}\n",
    "# for event in graph.stream(inputs, stream_mode=\"values\"):\n",
    "#     print(event)\n",
    "results = graph.invoke(inputs)"
   ]
  },
  {
   "cell_type": "code",
   "execution_count": 103,
   "id": "ccc0a900-d8c5-41f7-8e54-32627ddf5f81",
   "metadata": {},
   "outputs": [
    {
     "name": "stdout",
     "output_type": "stream",
     "text": [
      "{'question': \"What are the tasks related to ODE's on page 1?\", 'generation': AIMessage(content='The tasks related to ODEs on page 1 are:\\n\\n- 1.1. Background on the methodology\\n- 1.2. Analyze the program\\n- 1.3. Run training with Gaussian training data\\n- 1.4. Run training with mixture of Laplace training data', additional_kwargs={}, response_metadata={'model': 'llama3.2', 'created_at': '2025-02-02T12:31:36.8213666Z', 'done': True, 'done_reason': 'stop', 'total_duration': 5752057500, 'load_duration': 29998700, 'prompt_eval_count': 1085, 'prompt_eval_duration': 1022000000, 'eval_count': 64, 'eval_duration': 4698000000, 'message': Message(role='assistant', content='', images=None, tool_calls=None)}, id='run-b6a8ec5b-e866-4681-8130-90da1bcf69e7-0', usage_metadata={'input_tokens': 1085, 'output_tokens': 64, 'total_tokens': 1149}), 'no_relevant_docs': 0, 'max_retries': 3, 'loop_step': 1, 'documents': [Document(id='f5182725-7dbc-4537-8698-0dad8d2b935a', metadata={'title': '1 ODE', 'page_id': 0, 'chunk_index': 0, 'source': 'DL_Assignment_4.pdf', 'keywords': ['ode ipynb', 'density modeling', 'models ddpm', 'ode notebook', 'notebook ode']}, page_content='## Deep Learning 2024 Assignment 4\\n\\nThis is an individual assignment and its deadline is Friday, January 17, 2025, 22:00. You must submit your solution electronically via the Absalon home page.\\n\\nDiffusion models such as the DDPM and VDM are formulated as hierarchical latent variable models. Arguably, it is more natural to formulate these models through differential equations as is common practice in the closely related score and flow matching methods. In this assignment we will study ordinary and stochastic differential equations (ODEs and SDEs) likelihood approaches to generative modeling.\\n\\n## 1 ODE\\n\\nIn this exercise, you will work with ordinary differential equations for density modeling in one dimension. A notebook ODE.ipynb implements a class to simulate training and validation data, models, model training and visualization. Your tasks will be about analyzing the approach and try different variations. Specifically, your tasks are:\\n\\n- 1.1. Background on the methodology: State the generative model equations (see notebook) and log likelihood objective equations (see lecture slides). Just the equations nothing else.\\n- 1.2. Analyze the program: List the different parts of the notebook with brief descriptions of the function of each part (1-2 sentences) and its relation to the methodology. (Some functions and options in the code are not used. These of course should not be described.\\n- 1.3. Run training with Gaussian training data: Run the program without changing anything. From what distribution and with what parameters are the training data generated? Include and describe the plot you obtain. Can the model learn the task?\\n\\nIn the program we generate data y ∼ p(y) from a distribution p(y) that we can also evaluate exactly. We can therefore calculate the true expected log likelihood: 1 ntest Pntest i=1 log p(yi). This is the number that is returned from the dataset generator program. Compare this number with log likelihood that the final iteration gives. Include in the report the expected log likelihood that the dataset generator returns and the final log likelihood you achieve by running the program. Are the trained models close to the ideal value? Does this agree with the visualizations of the densities?\\n\\n- 1.4. Run training with mixture of Laplace training data: Now change the program to run with mixture of Laplacians data instead. Do the same as above for this new dataset. Try to change the drift network. Can you improve the performance?\\nThe simplest numerical integrator method is Euler (euler). The program also\\n\\nimplements two Runge-Kutta methods (rk2 and rk4). Try to change the integration method. Does this change anything?\\n\\n- 1.5. Complexity: The calculation of the log likelihood requires numerical integration of the ODE with T integration steps. (T = 100 in the program.) How will the complexity scale with T? How will back propagation for parameter estimation scale with T?\\n## 2 SDE\\n\\nIn this exercise, you will work with stochastic differential equations for density modeling in one dimension. A notebook SDE.ipynb implements a class to simulate training and validation data, models, model training and visualization. Your tasks are:\\n\\n- 2.1. Background on the methodology: State the generative model (see notebook) and log likelihood lower bound (evidence lower bound, ELBO) objective equations (see lecture slides). Just the equations nothing else.\\n- 2.2. Analyze the program: List the different parts of the notebook with brief descriptions of the function of each part (1-2 sentences) and its relation to the methodology. No need to describe the code also found in the ODE notebook or code not used.\\n- 2.3. Run training: Run the program without changing anything. Include and describe the plot you have obtained. Also include in the report the expected log likelihood that the dataset generator returns and the final log likelihood you achieve by running the program.\\n- 2.4. Change parameterization of the model components: Try to change the network that specifies the variational distribution qt(xt|y) = N (xt|α(y, t), β2 (y, t)) and generative model f(x, t) and σ(x, t). Some possible parameterizations are given in the notebook. Do you observe any changes to the behavior?\\n- 2.5. Expected log likelihood: Compare the ELBO values you get to the ODE case. Are they more or less the same? Does the SDE fit to the distributions look good visually? Why do you think that the SDE objective fluctuate more than the ODE objective? Hint: The SDE objective depends upon sampling random t-values.')]}\n"
     ]
    }
   ],
   "source": [
    "print(results)"
   ]
  },
  {
   "cell_type": "code",
   "execution_count": null,
   "id": "6691aaa3-027e-4008-b378-9a3feb72bc57",
   "metadata": {},
   "outputs": [],
   "source": []
  }
 ],
 "metadata": {
  "kernelspec": {
   "display_name": "Python 3 (ipykernel)",
   "language": "python",
   "name": "python3"
  },
  "language_info": {
   "codemirror_mode": {
    "name": "ipython",
    "version": 3
   },
   "file_extension": ".py",
   "mimetype": "text/x-python",
   "name": "python",
   "nbconvert_exporter": "python",
   "pygments_lexer": "ipython3",
   "version": "3.11.5"
  }
 },
 "nbformat": 4,
 "nbformat_minor": 5
}
